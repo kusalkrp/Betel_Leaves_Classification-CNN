{
 "cells": [
  {
   "cell_type": "code",
   "execution_count": 10,
   "metadata": {},
   "outputs": [],
   "source": [
    "import os\n",
    "import random\n",
    "from PIL import Image, ImageEnhance, ImageOps\n",
    "from tqdm import tqdm\n"
   ]
  },
  {
   "cell_type": "code",
   "execution_count": 11,
   "metadata": {},
   "outputs": [],
   "source": [
    "original_dataset_path = '../Betel desease-Kithmini/Betel Leaf Image Dataset from Bangladesh/Original Images'\n",
    "augmented_dataset_path = '../Betel desease-Kithmini/New Dataset_new/Test'\n",
    "\n",
    "# Define the classes\n",
    "classes = ['Bacterial Leaf Disease', 'Dried Leaf', 'Fungal Brown Spot Disease', 'Healthy Leaf']\n"
   ]
  },
  {
   "cell_type": "code",
   "execution_count": 13,
   "metadata": {},
   "outputs": [],
   "source": [
    "# Create the augmented dataset directory if it doesn't exist\n",
    "os.makedirs(augmented_dataset_path, exist_ok=True)\n"
   ]
  },
  {
   "cell_type": "code",
   "execution_count": 14,
   "metadata": {},
   "outputs": [],
   "source": [
    "# Function to apply random transformations\n",
    "def random_transform(image):\n",
    "    # Resize the image to 256x256\n",
    "    image = image.resize((256, 256))\n",
    "    \n",
    "    # Random horizontal flip\n",
    "    if random.random() > 0.5:\n",
    "        image = ImageOps.mirror(image)\n",
    "    \n",
    "    # Random vertical flip\n",
    "    if random.random() > 0.5:\n",
    "        image = ImageOps.flip(image)\n",
    "    \n",
    "    # Random rotation\n",
    "    angle = random.randint(0, 360)\n",
    "    image = image.rotate(angle)\n",
    "    \n",
    "    # Random color jitter\n",
    "    enhancer = ImageEnhance.Color(image)\n",
    "    image = enhancer.enhance(random.uniform(0.8, 1.2))\n",
    "    \n",
    "    enhancer = ImageEnhance.Brightness(image)\n",
    "    image = enhancer.enhance(random.uniform(0.8, 1.2))\n",
    "    \n",
    "    enhancer = ImageEnhance.Contrast(image)\n",
    "    image = enhancer.enhance(random.uniform(0.8, 1.2))\n",
    "    \n",
    "    enhancer = ImageEnhance.Sharpness(image)\n",
    "    image = enhancer.enhance(random.uniform(0.8, 1.2))\n",
    "    \n",
    "    return image"
   ]
  },
  {
   "cell_type": "code",
   "execution_count": 15,
   "metadata": {},
   "outputs": [],
   "source": [
    "# Function to augment images\n",
    "def augment_images(class_name, num_augmented_images=100):\n",
    "    class_path = os.path.join(original_dataset_path, class_name)\n",
    "    augmented_class_path = os.path.join(augmented_dataset_path, class_name)\n",
    "    os.makedirs(augmented_class_path, exist_ok=True)\n",
    "    \n",
    "    original_images = [os.path.join(class_path, img) for img in os.listdir(class_path)]\n",
    "    num_original_images = len(original_images)\n",
    "    print(f'Augmenting {num_original_images} images for class {class_name}')\n",
    "    \n",
    "    for i in tqdm(range(num_augmented_images)):\n",
    "        img_path = random.choice(original_images)\n",
    "        img = Image.open(img_path)\n",
    "        augmented_img = random_transform(img)\n",
    "        augmented_img.save(os.path.join(augmented_class_path, f'{class_name}_{i}.jpg'))\n"
   ]
  },
  {
   "cell_type": "code",
   "execution_count": 16,
   "metadata": {},
   "outputs": [
    {
     "name": "stdout",
     "output_type": "stream",
     "text": [
      "Augmenting 250 images for class Bacterial Leaf Disease\n"
     ]
    },
    {
     "name": "stderr",
     "output_type": "stream",
     "text": [
      "100%|██████████| 100/100 [00:13<00:00,  7.27it/s]\n"
     ]
    },
    {
     "name": "stdout",
     "output_type": "stream",
     "text": [
      "Augmenting 250 images for class Dried Leaf\n"
     ]
    },
    {
     "name": "stderr",
     "output_type": "stream",
     "text": [
      "100%|██████████| 100/100 [00:16<00:00,  6.16it/s]\n"
     ]
    },
    {
     "name": "stdout",
     "output_type": "stream",
     "text": [
      "Augmenting 250 images for class Fungal Brown Spot Disease\n"
     ]
    },
    {
     "name": "stderr",
     "output_type": "stream",
     "text": [
      "100%|██████████| 100/100 [00:18<00:00,  5.28it/s]\n"
     ]
    },
    {
     "name": "stdout",
     "output_type": "stream",
     "text": [
      "Augmenting 250 images for class Healthy Leaf\n"
     ]
    },
    {
     "name": "stderr",
     "output_type": "stream",
     "text": [
      "100%|██████████| 100/100 [00:14<00:00,  6.97it/s]\n"
     ]
    }
   ],
   "source": [
    "# Augment images for each class\n",
    "for class_name in classes:\n",
    "    augment_images(class_name)"
   ]
  }
 ],
 "metadata": {
  "kernelspec": {
   "display_name": "gpu",
   "language": "python",
   "name": "python3"
  },
  "language_info": {
   "codemirror_mode": {
    "name": "ipython",
    "version": 3
   },
   "file_extension": ".py",
   "mimetype": "text/x-python",
   "name": "python",
   "nbconvert_exporter": "python",
   "pygments_lexer": "ipython3",
   "version": "3.11.9"
  }
 },
 "nbformat": 4,
 "nbformat_minor": 2
}
